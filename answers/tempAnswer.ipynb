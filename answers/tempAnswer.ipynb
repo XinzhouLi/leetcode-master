{
 "cells": [
  {
   "cell_type": "code",
   "execution_count": 16,
   "metadata": {},
   "outputs": [
    {
     "name": "stdout",
     "output_type": "stream",
     "text": [
      "[0, 3]\n",
      "[2, 4]\n",
      "[1, 1, 2, 2, 3]\n"
     ]
    }
   ],
   "source": [
    "def fourSum(nums: [int], target: int) -> [[int]]:\n",
    "    indexMap = {}\n",
    "    for (index, value) in enumerate(nums):\n",
    "        if value in indexMap.keys():\n",
    "            indexMap[value].append(index)\n",
    "            print(indexMap[value])\n",
    "        else: \n",
    "            indexMap[value] = [index]\n",
    "    nums.sort()\n",
    "    print(nums)\n",
    "\n",
    "    result = set()\n",
    "    p4 = len(nums)-1\n",
    "    for p1 in range(p4-1):\n",
    "        t = target+p1\n",
    "        for p2 in range(p1+1,p4-1):\n",
    "\n",
    "    result = list(result)\n",
    "    \n",
    "\n",
    "\n",
    "\n",
    "fourSum([2,3,1,2,1],1)\n"
   ]
  },
  {
   "cell_type": "code",
   "execution_count": null,
   "metadata": {},
   "outputs": [],
   "source": []
  }
 ],
 "metadata": {
  "kernelspec": {
   "display_name": "latest",
   "language": "python",
   "name": "python3"
  },
  "language_info": {
   "codemirror_mode": {
    "name": "ipython",
    "version": 3
   },
   "file_extension": ".py",
   "mimetype": "text/x-python",
   "name": "python",
   "nbconvert_exporter": "python",
   "pygments_lexer": "ipython3",
   "version": "3.10.10"
  },
  "orig_nbformat": 4
 },
 "nbformat": 4,
 "nbformat_minor": 2
}
