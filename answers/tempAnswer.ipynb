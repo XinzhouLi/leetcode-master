{
 "cells": [
  {
   "cell_type": "code",
   "execution_count": 19,
   "metadata": {},
   "outputs": [
    {
     "name": "stdout",
     "output_type": "stream",
     "text": [
      "True\n",
      "{2: [0, 3], -3: [1], 0: [2], 1: [4]}\n"
     ]
    },
    {
     "data": {
      "text/plain": [
       "[[0, 1, 2, 3]]"
      ]
     },
     "execution_count": 19,
     "metadata": {},
     "output_type": "execute_result"
    }
   ],
   "source": [
    "def fourSum(nums: [int], target: int) -> [[int]]:\n",
    "    indexMap = {}\n",
    "    for (index, value) in enumerate(nums):\n",
    "        if value in indexMap.keys():\n",
    "            indexMap[value].append(index)\n",
    "        else: \n",
    "            indexMap[value] = [index]\n",
    "    nums.sort()\n",
    "    print(indexMap)\n",
    "    valueResult = set()\n",
    "    indexResult = []\n",
    "    p4 = len(nums)-1\n",
    "    for p1 in range(p4-1):\n",
    "        if nums[p1] > target:\n",
    "            continue\n",
    "        for p2 in range(p1+1,p4-1):\n",
    "            if nums[p1] + nums[p2] > target:\n",
    "                continue\n",
    "            p3 = p2+1\n",
    "            while p3<p4:\n",
    "                sum = nums[p1] + nums[p2] + nums[p3] + nums[p4]\n",
    "                valueStr = str(nums[p1]) + str(nums[p2]) + str(nums[p3]) + str(nums[p4])\n",
    "                if sum < target:\n",
    "                    p3 += 1\n",
    "                elif sum > target:\n",
    "                    p4 -= 1\n",
    "                elif sum == target and valueStr in valueResult:\n",
    "                    p3 += 1\n",
    "                    p4 -= 1\n",
    "                else:\n",
    "                    valueResult.add(valueStr)\n",
    "                    for i in indexMap[nums[p1]]:\n",
    "                        for j in indexMap[nums[p2]]:\n",
    "                            for k in indexMap[nums[p3]]:\n",
    "                                for s in indexMap[nums[p4]]:\n",
    "                                    ans = [i,j,k,s]\n",
    "                                    ans.sort()\n",
    "                                    if i!=j and j!=k and k!=s and ans not in indexResult:\n",
    "                                        indexResult.append(ans)\n",
    "    return indexResult\n",
    "\n",
    "\n",
    "se = set()   \n",
    "se.add('1' + '-2')\n",
    "print('1-2' in se)\n",
    "\n",
    "\n",
    "fourSum([2,-3,0,2,1],1)\n"
   ]
  },
  {
   "cell_type": "code",
   "execution_count": 3,
   "metadata": {},
   "outputs": [
    {
     "name": "stdout",
     "output_type": "stream",
     "text": [
      "l_copy == l_deepcopy:True\n",
      "l_copy is l:False\n",
      "l_copy is l_deepcopy:False\n",
      "l: [0, 1, 2, 4, ['aa', 'b', 1, 2]]\n",
      "l_copy: [0, 1, 2, 4, ['aa', 'b', 1, 2]]\n",
      "l_deepcopy: [0, 1, 2, 4, ['a', 'b', 1, 2]]\n"
     ]
    }
   ],
   "source": [
    "import copy \n",
    "l = [0,1,2,4,['a','b',1,2]]\n",
    "\n",
    "l_copy = copy.copy(l)\n",
    "l_deepcopy = copy.deepcopy(l)\n",
    "\n",
    "# 数值比较：==，地址比较：is\n",
    "print(\"l_copy == l_deepcopy:\"+str(l_copy==l_deepcopy))\n",
    "print(\"l_copy is l:\"+str(l_copy is l))\n",
    "print(\"l_copy is l_deepcopy:\"+str(l_copy is l_deepcopy))\n",
    "\n",
    "l[4][0] = 'aa' # 这里看修改l里数据，会不会引起copy和deepcopy对应的值的变化\n",
    "print(\"l:\",l)\n",
    "print(\"l_copy:\",l_copy)\n",
    "print(\"l_deepcopy:\",l_deepcopy)"
   ]
  },
  {
   "cell_type": "code",
   "execution_count": 11,
   "metadata": {},
   "outputs": [
    {
     "name": "stdout",
     "output_type": "stream",
     "text": [
      "[1, 2, 0]\n"
     ]
    }
   ],
   "source": [
    "import pandas as pd\n",
    "import numpy as np\n",
    "print(list(map(lambda x: 1 if x>5 else (2 if x==2 else 0), [6,2,1])))"
   ]
  },
  {
   "cell_type": "code",
   "execution_count": null,
   "metadata": {},
   "outputs": [],
   "source": []
  }
 ],
 "metadata": {
  "kernelspec": {
   "display_name": "latest",
   "language": "python",
   "name": "python3"
  },
  "language_info": {
   "codemirror_mode": {
    "name": "ipython",
    "version": 3
   },
   "file_extension": ".py",
   "mimetype": "text/x-python",
   "name": "python",
   "nbconvert_exporter": "python",
   "pygments_lexer": "ipython3",
   "version": "3.10.10"
  },
  "orig_nbformat": 4
 },
 "nbformat": 4,
 "nbformat_minor": 2
}
