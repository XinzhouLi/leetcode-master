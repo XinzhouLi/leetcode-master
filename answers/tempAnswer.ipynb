{
 "cells": [
  {
   "cell_type": "code",
   "execution_count": 19,
   "metadata": {},
   "outputs": [
    {
     "name": "stdout",
     "output_type": "stream",
     "text": [
      "True\n",
      "{2: [0, 3], -3: [1], 0: [2], 1: [4]}\n"
     ]
    },
    {
     "data": {
      "text/plain": [
       "[[0, 1, 2, 3]]"
      ]
     },
     "execution_count": 19,
     "metadata": {},
     "output_type": "execute_result"
    }
   ],
   "source": [
    "def fourSum(nums: [int], target: int) -> [[int]]:\n",
    "    indexMap = {}\n",
    "    for (index, value) in enumerate(nums):\n",
    "        if value in indexMap.keys():\n",
    "            indexMap[value].append(index)\n",
    "        else: \n",
    "            indexMap[value] = [index]\n",
    "    nums.sort()\n",
    "    print(indexMap)\n",
    "    valueResult = set()\n",
    "    indexResult = []\n",
    "    p4 = len(nums)-1\n",
    "    for p1 in range(p4-1):\n",
    "        if nums[p1] > target:\n",
    "            continue\n",
    "        for p2 in range(p1+1,p4-1):\n",
    "            if nums[p1] + nums[p2] > target:\n",
    "                continue\n",
    "            p3 = p2+1\n",
    "            while p3<p4:\n",
    "                sum = nums[p1] + nums[p2] + nums[p3] + nums[p4]\n",
    "                valueStr = str(nums[p1]) + str(nums[p2]) + str(nums[p3]) + str(nums[p4])\n",
    "                if sum < target:\n",
    "                    p3 += 1\n",
    "                elif sum > target:\n",
    "                    p4 -= 1\n",
    "                elif sum == target and valueStr in valueResult:\n",
    "                    p3 += 1\n",
    "                    p4 -= 1\n",
    "                else:\n",
    "                    valueResult.add(valueStr)\n",
    "                    for i in indexMap[nums[p1]]:\n",
    "                        for j in indexMap[nums[p2]]:\n",
    "                            for k in indexMap[nums[p3]]:\n",
    "                                for s in indexMap[nums[p4]]:\n",
    "                                    ans = [i,j,k,s]\n",
    "                                    ans.sort()\n",
    "                                    if i!=j and j!=k and k!=s and ans not in indexResult:\n",
    "                                        indexResult.append(ans)\n",
    "    return indexResult\n",
    "\n",
    "\n",
    "se = set()   \n",
    "se.add('1' + '-2')\n",
    "print('1-2' in se)\n",
    "\n",
    "\n",
    "fourSum([2,-3,0,2,1],1)\n"
   ]
  },
  {
   "cell_type": "code",
   "execution_count": 3,
   "metadata": {},
   "outputs": [
    {
     "name": "stdout",
     "output_type": "stream",
     "text": [
      "l_copy == l_deepcopy:True\n",
      "l_copy is l:False\n",
      "l_copy is l_deepcopy:False\n",
      "l: [0, 1, 2, 4, ['aa', 'b', 1, 2]]\n",
      "l_copy: [0, 1, 2, 4, ['aa', 'b', 1, 2]]\n",
      "l_deepcopy: [0, 1, 2, 4, ['a', 'b', 1, 2]]\n"
     ]
    }
   ],
   "source": [
    "import copy \n",
    "l = [0,1,2,4,['a','b',1,2]]\n",
    "\n",
    "l_copy = copy.copy(l)\n",
    "l_deepcopy = copy.deepcopy(l)\n",
    "\n",
    "# 数值比较：==，地址比较：is\n",
    "print(\"l_copy == l_deepcopy:\"+str(l_copy==l_deepcopy))\n",
    "print(\"l_copy is l:\"+str(l_copy is l))\n",
    "print(\"l_copy is l_deepcopy:\"+str(l_copy is l_deepcopy))\n",
    "\n",
    "l[4][0] = 'aa' # 这里看修改l里数据，会不会引起copy和deepcopy对应的值的变化\n",
    "print(\"l:\",l)\n",
    "print(\"l_copy:\",l_copy)\n",
    "print(\"l_deepcopy:\",l_deepcopy)"
   ]
  },
  {
   "cell_type": "code",
   "execution_count": 11,
   "metadata": {},
   "outputs": [
    {
     "name": "stdout",
     "output_type": "stream",
     "text": [
      "   grade\n",
      "2      3\n",
      "3      5\n"
     ]
    }
   ],
   "source": [
    "import pandas as pd\n",
    "import numpy as np\n",
    "series = pd.Series(data={2:3,3:5})\n",
    "list = series.to_dict()\n",
    "df = series.to_frame(name='grade')\n",
    "print(df)"
   ]
  },
  {
   "cell_type": "code",
   "execution_count": 26,
   "metadata": {},
   "outputs": [
    {
     "name": "stdout",
     "output_type": "stream",
     "text": [
      "0     20.0\n",
      "1     21.0\n",
      "2     22.0\n",
      "3     23.0\n",
      "4     24.0\n",
      "5     25.0\n",
      "6     26.0\n",
      "7     27.0\n",
      "8     28.0\n",
      "9     29.0\n",
      "11    12.0\n",
      "dtype: float64\n"
     ]
    },
    {
     "name": "stderr",
     "output_type": "stream",
     "text": [
      "C:\\Users\\XinzhouLi\\AppData\\Local\\Temp\\ipykernel_3360\\1186182503.py:6: FutureWarning: The series.append method is deprecated and will be removed from pandas in a future version. Use pandas.concat instead.\n",
      "  df = df.append(pd.Series(data={11:12}))\n"
     ]
    }
   ],
   "source": [
    "df = pd.Series(\n",
    "    index= np.arange(0,10,1),\n",
    "    data = np.arange(20,30,1),\n",
    "    dtype='float64'\n",
    ")\n",
    "df = df.append(pd.Series(data={11:12}))\n",
    "# df = df.\n",
    "print(df)"
   ]
  },
  {
   "cell_type": "code",
   "execution_count": 54,
   "metadata": {},
   "outputs": [
    {
     "name": "stdout",
     "output_type": "stream",
     "text": [
      "<class 'pandas.core.series.Series'>\n"
     ]
    }
   ],
   "source": [
    "df = pd.date_range(start='2021-10-01', end=\"2021-10-31\")\n",
    "df = pd.DataFrame(data=df, columns=['day'])\n",
    "df['dayofyear'] = df.loc[0:15,'day'].apply(lambda x: x.dayofyear)\n",
    "count = df.loc[:,'dayofyear'].value_counts()\n",
    "print(type(df.loc[:,'dayofyear']))\n"
   ]
  },
  {
   "cell_type": "code",
   "execution_count": 57,
   "metadata": {},
   "outputs": [
    {
     "name": "stdout",
     "output_type": "stream",
     "text": [
      "[Timestamp('2021-10-01 00:00:00', freq='D'), Timestamp('2021-10-02 00:00:00', freq='D'), Timestamp('2021-10-03 00:00:00', freq='D')]\n"
     ]
    }
   ],
   "source": [
    "df = pd.date_range(start='20211001', periods=3).tolist()\n",
    "print(df)"
   ]
  },
  {
   "cell_type": "code",
   "execution_count": 68,
   "metadata": {},
   "outputs": [
    {
     "name": "stdout",
     "output_type": "stream",
     "text": [
      "     sepal length (cm)  sepal width (cm)  petal length (cm)  petal width (cm)\n",
      "0                  5.1               3.5                1.4               0.2\n",
      "1                  4.9               3.0                1.4               0.2\n",
      "2                  4.7               3.2                1.3               NaN\n",
      "3                  4.6               NaN                1.5               0.2\n",
      "4                  5.0               3.6                1.4               0.2\n",
      "..                 ...               ...                ...               ...\n",
      "145                6.7               3.0                NaN               NaN\n",
      "146                NaN               2.5                5.0               1.9\n",
      "147                6.5               3.0                NaN               NaN\n",
      "148                6.2               NaN                5.4               2.3\n",
      "149                5.9               3.0                5.1               1.8\n",
      "\n",
      "[150 rows x 4 columns]\n",
      "True\n",
      "False\n",
      "False\n",
      "False\n"
     ]
    },
    {
     "ename": "KeyError",
     "evalue": "'sepal length (cm)'",
     "output_type": "error",
     "traceback": [
      "\u001b[1;31m---------------------------------------------------------------------------\u001b[0m",
      "\u001b[1;31mKeyError\u001b[0m                                  Traceback (most recent call last)",
      "File \u001b[1;32md:\\progarmSoftware\\Miniconda\\envs\\latest\\lib\\site-packages\\pandas\\core\\indexes\\base.py:3803\u001b[0m, in \u001b[0;36mIndex.get_loc\u001b[1;34m(self, key, method, tolerance)\u001b[0m\n\u001b[0;32m   3802\u001b[0m \u001b[39mtry\u001b[39;00m:\n\u001b[1;32m-> 3803\u001b[0m     \u001b[39mreturn\u001b[39;00m \u001b[39mself\u001b[39;49m\u001b[39m.\u001b[39;49m_engine\u001b[39m.\u001b[39;49mget_loc(casted_key)\n\u001b[0;32m   3804\u001b[0m \u001b[39mexcept\u001b[39;00m \u001b[39mKeyError\u001b[39;00m \u001b[39mas\u001b[39;00m err:\n",
      "File \u001b[1;32md:\\progarmSoftware\\Miniconda\\envs\\latest\\lib\\site-packages\\pandas\\_libs\\index.pyx:138\u001b[0m, in \u001b[0;36mpandas._libs.index.IndexEngine.get_loc\u001b[1;34m()\u001b[0m\n",
      "File \u001b[1;32md:\\progarmSoftware\\Miniconda\\envs\\latest\\lib\\site-packages\\pandas\\_libs\\index.pyx:165\u001b[0m, in \u001b[0;36mpandas._libs.index.IndexEngine.get_loc\u001b[1;34m()\u001b[0m\n",
      "File \u001b[1;32mpandas\\_libs\\hashtable_class_helper.pxi:5745\u001b[0m, in \u001b[0;36mpandas._libs.hashtable.PyObjectHashTable.get_item\u001b[1;34m()\u001b[0m\n",
      "File \u001b[1;32mpandas\\_libs\\hashtable_class_helper.pxi:5753\u001b[0m, in \u001b[0;36mpandas._libs.hashtable.PyObjectHashTable.get_item\u001b[1;34m()\u001b[0m\n",
      "\u001b[1;31mKeyError\u001b[0m: 'sepal length (cm)'",
      "\nThe above exception was the direct cause of the following exception:\n",
      "\u001b[1;31mKeyError\u001b[0m                                  Traceback (most recent call last)",
      "Cell \u001b[1;32mIn[68], line 170\u001b[0m\n\u001b[0;32m    167\u001b[0m     \u001b[39mif\u001b[39;00m df[i]\u001b[39m.\u001b[39misna()\u001b[39m.\u001b[39msum() \u001b[39m>\u001b[39m\u001b[39m=\u001b[39m length\u001b[39m/\u001b[39m\u001b[39m4\u001b[39m:\n\u001b[0;32m    168\u001b[0m         df\u001b[39m.\u001b[39mdrop(columns\u001b[39m=\u001b[39mi, inplace \u001b[39m=\u001b[39m \u001b[39mTrue\u001b[39;00m)\n\u001b[0;32m    169\u001b[0m index \u001b[39m=\u001b[39m df[\n\u001b[1;32m--> 170\u001b[0m     (df[\u001b[39m'\u001b[39;49m\u001b[39msepal length (cm)\u001b[39;49m\u001b[39m'\u001b[39;49m] \u001b[39m>\u001b[39m \u001b[39mfloat\u001b[39m(df[\u001b[39m'\u001b[39m\u001b[39msepal length (cm)\u001b[39m\u001b[39m'\u001b[39m]\u001b[39m.\u001b[39mvar())\u001b[39m+\u001b[39m\u001b[39m0.5\u001b[39m)\n\u001b[0;32m    171\u001b[0m     \u001b[39m# (df[['sepal width (cm)']] > float(df[['sepal width (cm)']].var())+0.5) | (df[['sepal width (cm)']] > float(df[['sepal width (cm)']].var())-0.5) |\u001b[39;00m\n\u001b[0;32m    172\u001b[0m     \u001b[39m# (df[['petal length (cm)']] > float(df[['petal length (cm)']].var())+0.5) | (df[['petal length (cm)']] > float(df[['petal length (cm)']].var())-0.5) |\u001b[39;00m\n\u001b[0;32m    173\u001b[0m     \u001b[39m# (df[['petal width (cm)']] > float(df[['petal width (cm)']].var())+0.5) | (df[['petal width (cm)']] > float(df[['petal width (cm)']].var())-0.5)\u001b[39;00m\n\u001b[0;32m    174\u001b[0m  ]\u001b[39m.\u001b[39mindex\n\u001b[0;32m    175\u001b[0m df\u001b[39m.\u001b[39mdrop(index, inplace\u001b[39m=\u001b[39m\u001b[39mTrue\u001b[39;00m)\n\u001b[0;32m    176\u001b[0m result\u001b[39m=\u001b[39m[df]\n",
      "File \u001b[1;32md:\\progarmSoftware\\Miniconda\\envs\\latest\\lib\\site-packages\\pandas\\core\\frame.py:3805\u001b[0m, in \u001b[0;36mDataFrame.__getitem__\u001b[1;34m(self, key)\u001b[0m\n\u001b[0;32m   3803\u001b[0m \u001b[39mif\u001b[39;00m \u001b[39mself\u001b[39m\u001b[39m.\u001b[39mcolumns\u001b[39m.\u001b[39mnlevels \u001b[39m>\u001b[39m \u001b[39m1\u001b[39m:\n\u001b[0;32m   3804\u001b[0m     \u001b[39mreturn\u001b[39;00m \u001b[39mself\u001b[39m\u001b[39m.\u001b[39m_getitem_multilevel(key)\n\u001b[1;32m-> 3805\u001b[0m indexer \u001b[39m=\u001b[39m \u001b[39mself\u001b[39;49m\u001b[39m.\u001b[39;49mcolumns\u001b[39m.\u001b[39;49mget_loc(key)\n\u001b[0;32m   3806\u001b[0m \u001b[39mif\u001b[39;00m is_integer(indexer):\n\u001b[0;32m   3807\u001b[0m     indexer \u001b[39m=\u001b[39m [indexer]\n",
      "File \u001b[1;32md:\\progarmSoftware\\Miniconda\\envs\\latest\\lib\\site-packages\\pandas\\core\\indexes\\base.py:3805\u001b[0m, in \u001b[0;36mIndex.get_loc\u001b[1;34m(self, key, method, tolerance)\u001b[0m\n\u001b[0;32m   3803\u001b[0m     \u001b[39mreturn\u001b[39;00m \u001b[39mself\u001b[39m\u001b[39m.\u001b[39m_engine\u001b[39m.\u001b[39mget_loc(casted_key)\n\u001b[0;32m   3804\u001b[0m \u001b[39mexcept\u001b[39;00m \u001b[39mKeyError\u001b[39;00m \u001b[39mas\u001b[39;00m err:\n\u001b[1;32m-> 3805\u001b[0m     \u001b[39mraise\u001b[39;00m \u001b[39mKeyError\u001b[39;00m(key) \u001b[39mfrom\u001b[39;00m \u001b[39merr\u001b[39;00m\n\u001b[0;32m   3806\u001b[0m \u001b[39mexcept\u001b[39;00m \u001b[39mTypeError\u001b[39;00m:\n\u001b[0;32m   3807\u001b[0m     \u001b[39m# If we have a listlike key, _check_indexing_error will raise\u001b[39;00m\n\u001b[0;32m   3808\u001b[0m     \u001b[39m#  InvalidIndexError. Otherwise we fall through and re-raise\u001b[39;00m\n\u001b[0;32m   3809\u001b[0m     \u001b[39m#  the TypeError.\u001b[39;00m\n\u001b[0;32m   3810\u001b[0m     \u001b[39mself\u001b[39m\u001b[39m.\u001b[39m_check_indexing_error(key)\n",
      "\u001b[1;31mKeyError\u001b[0m: 'sepal length (cm)'"
     ]
    }
   ],
   "source": [
    "import pandas as pd \n",
    "import numpy as np\n",
    "\n",
    "\n",
    "\n",
    "columns = ['sepal length (cm)', 'sepal width (cm)', 'petal length (cm)',\n",
    "       'petal width (cm)']\n",
    "dataset = [[5.1, 3.5, 1.4, 0.2],\n",
    " [4.9, 3.0, 1.4, 0.2],\n",
    " [4.7, 3.2, 1.3, np.nan],\n",
    " [4.6, np.nan, 1.5, 0.2],\n",
    " [5.0, 3.6, 1.4, 0.2],\n",
    " [5.4, 3.9, 1.7, np.nan],\n",
    " [4.6, 3.4, 1.4, 0.3],\n",
    " [5.0, 3.4, 1.5, 0.2],\n",
    " [4.4, np.nan, np.nan, 0.2],\n",
    " [4.9, 3.1, 1.5, 0.1],\n",
    " [5.4, 3.7, 1.5, 0.2],\n",
    " [4.8, 3.4, np.nan, 0.2],\n",
    " [4.8, 3.0, 1.4, 0.1],\n",
    " [4.3, 3.0, 1.1, np.nan],\n",
    " [5.8, np.nan, np.nan, 0.2],\n",
    " [5.7, 4.4, 1.5, 0.4],\n",
    " [np.nan, 3.9, 1.3, 0.4],\n",
    " [5.1, 3.5, 1.4, 0.3],\n",
    " [5.7, 3.8, 1.7, 0.3],\n",
    " [5.1, 3.8, np.nan, 0.3],\n",
    " [5.4, 3.4, 1.7, 0.2],\n",
    " [5.1, 3.7, np.nan, 0.4],\n",
    " [np.nan, 3.6, np.nan, np.nan],\n",
    " [5.1, 3.3, 1.7, 0.5],\n",
    " [4.8, 3.4, np.nan, 0.2],\n",
    " [5.0, 3.0, 1.6, 0.2],\n",
    " [5.0, 3.4, 1.6, 0.4],\n",
    " [5.2, 3.5, 1.5, 0.2],\n",
    " [5.2, 3.4, 1.4, 0.2],\n",
    " [4.7, np.nan, 1.6, np.nan],\n",
    " [4.8, 3.1, 1.6, 0.2],\n",
    " [5.4, 3.4, 1.5, 0.4],\n",
    " [np.nan, 4.1, 1.5, 0.1],\n",
    " [5.5, np.nan, 1.4, 0.2],\n",
    " [np.nan, 3.1, 1.5, 0.2],\n",
    " [5.0, 3.2, np.nan, 0.2],\n",
    " [5.5, 3.5, np.nan, 0.2],\n",
    " [4.9, np.nan, 1.4, 0.1],\n",
    " [np.nan, 3.0, 1.3, 0.2],\n",
    " [5.1, 3.4, np.nan, 0.2],\n",
    " [np.nan, 3.5, 1.3, 0.3],\n",
    " [4.5, 2.3, 1.3, 0.3],\n",
    " [np.nan, np.nan, 1.3, 0.2],\n",
    " [np.nan, 3.5, 1.6, 0.6],\n",
    " [5.1, 3.8, 1.9, 0.4],\n",
    " [np.nan, 3.0, 1.4, 0.3],\n",
    " [5.1, np.nan, 1.6, 0.2],\n",
    " [4.6, 3.2, 1.4, 0.2],\n",
    " [5.3, 3.7, np.nan, np.nan],\n",
    " [5.0, 3.3, np.nan, 0.2],\n",
    " [7.0, 3.2, 4.7, 1.4],\n",
    " [6.4, 3.2, 4.5, np.nan],\n",
    " [6.9, 3.1, 4.9, 1.5],\n",
    " [np.nan, 2.3, 4.0, 1.3],\n",
    " [np.nan, 2.8, 4.6, np.nan],\n",
    " [np.nan, 2.8, np.nan, 1.3],\n",
    " [6.3, 3.3, 4.7, 1.6],\n",
    " [4.9, np.nan, 3.3, 1.0],\n",
    " [np.nan, 2.9, 4.6, 1.3],\n",
    " [5.2, 2.7, 3.9, 1.4],\n",
    " [5.0, 2.0, 3.5, 1.0],\n",
    " [5.9, 3.0, np.nan, 1.5],\n",
    " [6.0, 2.2, 4.0, 1.0],\n",
    " [np.nan, 2.9, 4.7, 1.4],\n",
    " [np.nan, 2.9, 3.6, 1.3],\n",
    " [6.7, 3.1, 4.4, 1.4],\n",
    " [5.6, 3.0, 4.5, np.nan],\n",
    " [5.8, 2.7, 4.1, np.nan],\n",
    " [np.nan, 2.2, 4.5, np.nan],\n",
    " [5.6, 2.5, np.nan, np.nan],\n",
    " [5.9, 3.2, np.nan, 1.8],\n",
    " [np.nan, 2.8, 4.0, 1.3],\n",
    " [np.nan, 2.5, 4.9, 1.5],\n",
    " [6.1, 2.8, 4.7, np.nan],\n",
    " [np.nan, 2.9, 4.3, 1.3],\n",
    " [np.nan, np.nan, 4.4, 1.4],\n",
    " [np.nan, np.nan, 4.8, np.nan],\n",
    " [6.7, np.nan, np.nan, 1.7],\n",
    " [6.0, 2.9, 4.5, 1.5],\n",
    " [np.nan, 2.6, 3.5, 1.0],\n",
    " [5.5, 2.4, 3.8, 1.1],\n",
    " [5.5, 2.4, np.nan, np.nan],\n",
    " [5.8, 2.7, 3.9, 1.2],\n",
    " [6.0, 2.7, 5.1, 1.6],\n",
    " [np.nan, 3.0, 4.5, np.nan],\n",
    " [6.0, np.nan, 4.5, 1.6],\n",
    " [np.nan, 3.1, 4.7, 1.5],\n",
    " [6.3, 2.3, 4.4, 1.3],\n",
    " [5.6, 3.0, 4.1, 1.3],\n",
    " [5.5, 2.5, 4.0, 1.3],\n",
    " [5.5, 2.6, 4.4, 1.2],\n",
    " [6.1, 3.0, 4.6, 1.4],\n",
    " [5.8, 2.6, 4.0, 1.2],\n",
    " [5.0, 2.3, 3.3, 1.0],\n",
    " [5.6, np.nan, np.nan, 1.3],\n",
    " [5.7, np.nan, 4.2, 1.2],\n",
    " [5.7, 2.9, 4.2, 1.3],\n",
    " [6.2, 2.9, 4.3, np.nan],\n",
    " [np.nan, 2.5, 3.0, 1.1],\n",
    " [5.7, 2.8, 4.1, np.nan],\n",
    " [6.3, 3.3, 6.0, 2.5],\n",
    " [5.8, np.nan, 5.1, 1.9],\n",
    " [7.1, 3.0, 5.9, 2.1],\n",
    " [6.3, 2.9, 5.6, 1.8],\n",
    " [np.nan, 3.0, 5.8, 2.2],\n",
    " [7.6, 3.0, np.nan, 2.1],\n",
    " [np.nan, 2.5, 4.5, 1.7],\n",
    " [np.nan, 2.9, 6.3, np.nan],\n",
    " [6.7, 2.5, 5.8, 1.8],\n",
    " [np.nan, 3.6, 6.1, 2.5],\n",
    " [6.5, 3.2, 5.1, 2.0],\n",
    " [np.nan, 2.7, 5.3, 1.9],\n",
    " [6.8, 3.0, 5.5, 2.1],\n",
    " [5.7, 2.5, 5.0, 2.0],\n",
    " [5.8, 2.8, 5.1, 2.4],\n",
    " [np.nan, 3.2, 5.3, 2.3],\n",
    " [6.5, 3.0, np.nan, 1.8],\n",
    " [7.7, 3.8, 6.7, 2.2],\n",
    " [np.nan, 2.6, np.nan, np.nan],\n",
    " [6.0, 2.2, 5.0, np.nan],\n",
    " [6.9, np.nan, np.nan, 2.3],\n",
    " [5.6, 2.8, 4.9, np.nan],\n",
    " [7.7, np.nan, 6.7, 2.0],\n",
    " [6.3, 2.7, 4.9, 1.8],\n",
    " [6.7, 3.3, 5.7, 2.1],\n",
    " [7.2, 3.2, 6.0, 1.8],\n",
    " [np.nan, 2.8, 4.8, 1.8],\n",
    " [6.1, 3.0, 4.9, 1.8],\n",
    " [6.4, 2.8, 5.6, 2.1],\n",
    " [np.nan, 3.0, 5.8, 1.6],\n",
    " [7.4, 2.8, np.nan, np.nan],\n",
    " [np.nan, np.nan, np.nan, 2.0],\n",
    " [6.4, 2.8, 5.6, np.nan],\n",
    " [np.nan, 2.8, 5.1, 1.5],\n",
    " [6.1, 2.6, 5.6, 1.4],\n",
    " [np.nan, 3.0, 6.1, 2.3],\n",
    " [6.3, 3.4, 5.6, 2.4],\n",
    " [6.4, 3.1, 5.5, 1.8],\n",
    " [6.0, 3.0, 4.8, 1.8],\n",
    " [6.9, 3.1, 5.4, np.nan],\n",
    " [6.7, 3.1, 5.6, 2.4],\n",
    " [6.9, 3.1, 5.1, 2.3],\n",
    " [5.8, np.nan, 5.1, 1.9],\n",
    " [6.8, np.nan, 5.9, 2.3],\n",
    " [6.7, 3.3, 5.7, 2.5],\n",
    " [6.7, 3.0, np.nan, np.nan],\n",
    " [np.nan, 2.5, 5.0, 1.9],\n",
    " [6.5, 3.0, np.nan, np.nan],\n",
    " [6.2, np.nan, 5.4, 2.3],\n",
    " [5.9, 3.0, 5.1, 1.8]]\n",
    "\n",
    " \n",
    "threshold=0.50\n",
    "#this is default OUTPUT. You are allowed to modify it.\n",
    "df = pd.DataFrame(data=dataset, columns=columns)\n",
    "print(df)\n",
    "length = len(df['sepal length (cm)'])/4\n",
    "for i in df.columns:\n",
    "    print(float(df[i].isna().sum()) >= length)\n",
    "    if df[i].isna().sum() >= length/4:\n",
    "        df.drop(columns=i, inplace = True)\n",
    "index = df[\n",
    "    (df['sepal length (cm)'] > float(df['sepal length (cm)'].var())+0.5)\n",
    "    # (df[['sepal width (cm)']] > float(df[['sepal width (cm)']].var())+0.5) | (df[['sepal width (cm)']] > float(df[['sepal width (cm)']].var())-0.5) |\n",
    "    # (df[['petal length (cm)']] > float(df[['petal length (cm)']].var())+0.5) | (df[['petal length (cm)']] > float(df[['petal length (cm)']].var())-0.5) |\n",
    "    # (df[['petal width (cm)']] > float(df[['petal width (cm)']].var())+0.5) | (df[['petal width (cm)']] > float(df[['petal width (cm)']].var())-0.5)\n",
    " ].index\n",
    "df.drop(index, inplace=True)\n",
    "result=[df]\n",
    "#input for number of indices\n",
    "n = int(input())\n",
    "\n",
    "#input for indices\n",
    "for i in range(n):\n",
    "\tx=int(input())\n",
    "\t\n",
    "#NOTE: The variable \"n\" now contains indices\n",
    "#NOTE: The variable \"x\" contains indices\n",
    "#WRITE YOUR LOGIC HERE:\n",
    "\n",
    "\n",
    "\n",
    "\n",
    "#OUTPUT [uncomment & modify if required]\n",
    "for i in result:\n",
    "\tprint(i)"
   ]
  },
  {
   "cell_type": "code",
   "execution_count": null,
   "metadata": {},
   "outputs": [],
   "source": []
  }
 ],
 "metadata": {
  "kernelspec": {
   "display_name": "latest",
   "language": "python",
   "name": "python3"
  },
  "language_info": {
   "codemirror_mode": {
    "name": "ipython",
    "version": 3
   },
   "file_extension": ".py",
   "mimetype": "text/x-python",
   "name": "python",
   "nbconvert_exporter": "python",
   "pygments_lexer": "ipython3",
   "version": "3.10.10"
  },
  "orig_nbformat": 4
 },
 "nbformat": 4,
 "nbformat_minor": 2
}
