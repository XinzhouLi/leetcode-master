{
 "cells": [
  {
   "cell_type": "code",
   "execution_count": 49,
   "metadata": {},
   "outputs": [
    {
     "name": "stdout",
     "output_type": "stream",
     "text": [
      "[[False]]\n",
      "a\n"
     ]
    }
   ],
   "source": [
    "def longestPalindrome( s: str) -> str:\n",
    "    start = 0 \n",
    "    end = 0\n",
    "    longest = 0\n",
    "    dp = [[False] * len(s) for _ in range(len(s))]\n",
    "\n",
    "    print(dp)\n",
    "    for i in range(len(s))[::-1]:\n",
    "        for j in range(len(s)):            \n",
    "            if i>j:\n",
    "                continue\n",
    "            if s[i] != s[j]:\n",
    "                dp[i][j] = False\n",
    "            if s[i] ==  s[j]:\n",
    "                if i == j or i+1 == j:\n",
    "                    dp[i][j] = True\n",
    "                elif dp[i+1][j-1]:\n",
    "                    dp[i][j] =True\n",
    "            if j-i+1 >= longest and dp[i][j]:\n",
    "                longest = j-i+1\n",
    "                start, end = i, j\n",
    "    return s[start:end+1]\n",
    "print(longestPalindrome(\"a\"))"
   ]
  },
  {
   "cell_type": "code",
   "execution_count": null,
   "metadata": {},
   "outputs": [],
   "source": []
  }
 ],
 "metadata": {
  "kernelspec": {
   "display_name": "latest",
   "language": "python",
   "name": "python3"
  },
  "language_info": {
   "codemirror_mode": {
    "name": "ipython",
    "version": 3
   },
   "file_extension": ".py",
   "mimetype": "text/x-python",
   "name": "python",
   "nbconvert_exporter": "python",
   "pygments_lexer": "ipython3",
   "version": "3.10.10"
  },
  "orig_nbformat": 4
 },
 "nbformat": 4,
 "nbformat_minor": 2
}
