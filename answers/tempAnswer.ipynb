{
 "cells": [
  {
   "cell_type": "code",
   "execution_count": 43,
   "metadata": {},
   "outputs": [
    {
     "name": "stdout",
     "output_type": "stream",
     "text": [
      "['a', 'b', 'c']\n",
      "48\n"
     ]
    }
   ],
   "source": [
    "def letterCombinations( digits: str) -> [str]:\n",
    "    init = ord('a')\n",
    "    map = {}\n",
    "    for i in range(2,10):\n",
    "        if i == 7 or i == 9:\n",
    "            map[i] = [chr(j) for j in range(init, init+4)]\n",
    "            init += 4\n",
    "            continue\n",
    "        map[i] = [chr(j) for j in range(init, init+3)]\n",
    "        init += 3\n",
    "    print(map[int(digits[0])])\n",
    "    return bt(digits, map, \"\", 0)\n",
    "\n",
    "def bt(digits, map, previous, current):\n",
    "    result = []\n",
    "    if current == len(digits):\n",
    "        return [previous]\n",
    "    else:\n",
    "        for char in map[int(digits[current])]:\n",
    "\n",
    "            result.extend(bt(digits, map, previous+char, current+1))\n",
    "        return result\n",
    "\n",
    "\n",
    "print(len(letterCombinations(\"279\")))\n"
   ]
  },
  {
   "cell_type": "code",
   "execution_count": null,
   "metadata": {},
   "outputs": [],
   "source": []
  }
 ],
 "metadata": {
  "kernelspec": {
   "display_name": "latest",
   "language": "python",
   "name": "python3"
  },
  "language_info": {
   "codemirror_mode": {
    "name": "ipython",
    "version": 3
   },
   "file_extension": ".py",
   "mimetype": "text/x-python",
   "name": "python",
   "nbconvert_exporter": "python",
   "pygments_lexer": "ipython3",
   "version": "3.10.10"
  },
  "orig_nbformat": 4
 },
 "nbformat": 4,
 "nbformat_minor": 2
}
