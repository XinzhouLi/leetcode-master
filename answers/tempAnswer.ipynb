{
 "cells": [
  {
   "cell_type": "code",
   "execution_count": 13,
   "metadata": {},
   "outputs": [
    {
     "name": "stdout",
     "output_type": "stream",
     "text": [
      "0 2 3\n",
      "ccc\n"
     ]
    }
   ],
   "source": [
    "def longestPalindrome( s: str) -> str:\n",
    "    start = 0 \n",
    "    end = 0\n",
    "    longest = 0\n",
    "    for i in range(len(s)-1):\n",
    "        p1 = i\n",
    "        p2 = i+1 \n",
    "        if s[p1] == s[p2]:\n",
    "            # 双中心情况\n",
    "            while p1>=0 and p2<=len(s)-1 and s[p1] == s[p2]:\n",
    "                if p2-p1+1 > longest:    \n",
    "                    longest = p2-p1+1\n",
    "                    start, end = p1,p2\n",
    "                p1 -=1\n",
    "                p2 +=1\n",
    "\n",
    "        p1 = i-1\n",
    "        p2 = i+1\n",
    "        # 单中心情况\n",
    "        while p1>=0 and p2<=len(s)-1 and s[p1] == s[p2]:\n",
    "            if p2-p1+1 > longest: \n",
    "                longest = p2-p1+1\n",
    "                start, end = p1,p2\n",
    "                print(p1,p2,longest)\n",
    "            p1 -=1\n",
    "            p2 +=1\n",
    "\n",
    "\n",
    "\n",
    "    return s[start:end+1]\n",
    "print(longestPalindrome(\"ccc\"))"
   ]
  },
  {
   "cell_type": "code",
   "execution_count": 6,
   "metadata": {},
   "outputs": [
    {
     "name": "stdout",
     "output_type": "stream",
     "text": [
      "range(1, 3)\n"
     ]
    }
   ],
   "source": [
    "print(range(1,3))\n",
    "for i in range(5,1):\n",
    "    print(i)"
   ]
  },
  {
   "cell_type": "code",
   "execution_count": 34,
   "metadata": {},
   "outputs": [
    {
     "name": "stdout",
     "output_type": "stream",
     "text": [
      "1\n",
      "2\n",
      "3\n",
      "4\n",
      "left\n",
      "1 4 5\n",
      "2\n",
      "eq\n",
      "3\n",
      "right\n",
      "1 3 3\n",
      "2\n"
     ]
    },
    {
     "data": {
      "text/plain": [
       "[[-1, -1, 2]]"
      ]
     },
     "execution_count": 34,
     "metadata": {},
     "output_type": "execute_result"
    }
   ],
   "source": [
    "def threeSum(nums: [int]) -> [[int]]:\n",
    "    nums.sort()\n",
    "    result = []\n",
    "    p1 = 0\n",
    "    p2 = 1\n",
    "    p3 = len(nums)-1\n",
    "    while True:\n",
    "        sum  = 0\n",
    "        for i in range(p1+1, p3):\n",
    "            p2 = i\n",
    "            sum = nums[p1] + nums[p2] + nums[p3]\n",
    "            if sum > 0:\n",
    "                print(\"right\")\n",
    "                p3 -= 1\n",
    "                break\n",
    "            elif sum  == 0:\n",
    "                if [nums[p1], nums[p2],nums[p3]] not in result:\n",
    "                    result.append([nums[p1], nums[p2],nums[p3]])\n",
    "\n",
    "\n",
    "        if p1+1 == p2 and p2+1 == p3:\n",
    "            break\n",
    "        if sum <= 0 and p2+1 == p3:\n",
    "            print(\"left\")\n",
    "            p1 += 1\n",
    "        if sum > 0  and p2+1 == p3:\n",
    "            p3 -= 1\n",
    "        print(p1,p2,p3)\n",
    "    return result\n",
    "#[-4,-3,-1,0,4]\n",
    "threeSum([-1,0,1,2,-1,-4])"
   ]
  },
  {
   "cell_type": "code",
   "execution_count": null,
   "metadata": {},
   "outputs": [],
   "source": []
  }
 ],
 "metadata": {
  "kernelspec": {
   "display_name": "latest",
   "language": "python",
   "name": "python3"
  },
  "language_info": {
   "codemirror_mode": {
    "name": "ipython",
    "version": 3
   },
   "file_extension": ".py",
   "mimetype": "text/x-python",
   "name": "python",
   "nbconvert_exporter": "python",
   "pygments_lexer": "ipython3",
   "version": "3.10.10"
  },
  "orig_nbformat": 4
 },
 "nbformat": 4,
 "nbformat_minor": 2
}
